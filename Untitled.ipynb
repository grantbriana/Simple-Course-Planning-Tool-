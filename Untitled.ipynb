{
 "cells": [
  {
   "cell_type": "code",
   "execution_count": 1,
   "metadata": {},
   "outputs": [
    {
     "ename": "IndexError",
     "evalue": "list index out of range",
     "output_type": "error",
     "traceback": [
      "\u001b[1;31m---------------------------------------------------------------------------\u001b[0m",
      "\u001b[1;31mIndexError\u001b[0m                                Traceback (most recent call last)",
      "\u001b[1;32m<ipython-input-1-928b6de6c80c>\u001b[0m in \u001b[0;36m<module>\u001b[1;34m\u001b[0m\n\u001b[0;32m     51\u001b[0m             \u001b[0mnewCourse\u001b[0m \u001b[1;33m=\u001b[0m \u001b[0mcourse\u001b[0m\u001b[1;33m(\u001b[0m\u001b[0mrow\u001b[0m\u001b[1;33m[\u001b[0m\u001b[1;36m0\u001b[0m\u001b[1;33m]\u001b[0m\u001b[1;33m,\u001b[0m \u001b[0mrow\u001b[0m\u001b[1;33m[\u001b[0m\u001b[1;36m1\u001b[0m\u001b[1;33m]\u001b[0m\u001b[1;33m,\u001b[0m \u001b[0mrow\u001b[0m\u001b[1;33m[\u001b[0m\u001b[1;36m2\u001b[0m\u001b[1;33m]\u001b[0m\u001b[1;33m,\u001b[0m \u001b[0mrow\u001b[0m\u001b[1;33m[\u001b[0m\u001b[1;36m3\u001b[0m\u001b[1;33m]\u001b[0m\u001b[1;33m,\u001b[0m \u001b[0mrow\u001b[0m\u001b[1;33m[\u001b[0m\u001b[1;36m4\u001b[0m\u001b[1;33m]\u001b[0m\u001b[1;33m,\u001b[0m \u001b[0mrow\u001b[0m\u001b[1;33m[\u001b[0m\u001b[1;36m5\u001b[0m\u001b[1;33m]\u001b[0m\u001b[1;33m,\u001b[0m \u001b[0mrow\u001b[0m\u001b[1;33m[\u001b[0m\u001b[1;36m6\u001b[0m\u001b[1;33m]\u001b[0m\u001b[1;33m,\u001b[0m \u001b[0mrow\u001b[0m\u001b[1;33m[\u001b[0m\u001b[1;36m7\u001b[0m\u001b[1;33m]\u001b[0m\u001b[1;33m)\u001b[0m\u001b[1;33m\u001b[0m\u001b[1;33m\u001b[0m\u001b[0m\n\u001b[0;32m     52\u001b[0m             \u001b[0mcourses\u001b[0m\u001b[1;33m.\u001b[0m\u001b[0mappend\u001b[0m\u001b[1;33m(\u001b[0m\u001b[0mnewCourse\u001b[0m\u001b[1;33m)\u001b[0m\u001b[1;33m\u001b[0m\u001b[1;33m\u001b[0m\u001b[0m\n\u001b[1;32m---> 53\u001b[1;33m \u001b[0mpopulateCourseArray\u001b[0m\u001b[1;33m(\u001b[0m\u001b[0mpath\u001b[0m\u001b[1;33m)\u001b[0m\u001b[1;33m\u001b[0m\u001b[1;33m\u001b[0m\u001b[0m\n\u001b[0m\u001b[0;32m     54\u001b[0m \u001b[1;33m\u001b[0m\u001b[0m\n\u001b[0;32m     55\u001b[0m \u001b[0mprint\u001b[0m\u001b[1;33m(\u001b[0m\u001b[0mlen\u001b[0m\u001b[1;33m(\u001b[0m\u001b[0mcourses\u001b[0m\u001b[1;33m)\u001b[0m\u001b[1;33m)\u001b[0m\u001b[1;33m\u001b[0m\u001b[1;33m\u001b[0m\u001b[0m\n",
      "\u001b[1;32m<ipython-input-1-928b6de6c80c>\u001b[0m in \u001b[0;36mpopulateCourseArray\u001b[1;34m(path)\u001b[0m\n\u001b[0;32m     49\u001b[0m          \u001b[1;31m#prereq = []\u001b[0m\u001b[1;33m\u001b[0m\u001b[1;33m\u001b[0m\u001b[1;33m\u001b[0m\u001b[0m\n\u001b[0;32m     50\u001b[0m         \u001b[1;32mfor\u001b[0m \u001b[0mrow\u001b[0m \u001b[1;32min\u001b[0m \u001b[0mdatareader\u001b[0m\u001b[1;33m:\u001b[0m\u001b[1;33m\u001b[0m\u001b[1;33m\u001b[0m\u001b[0m\n\u001b[1;32m---> 51\u001b[1;33m             \u001b[0mnewCourse\u001b[0m \u001b[1;33m=\u001b[0m \u001b[0mcourse\u001b[0m\u001b[1;33m(\u001b[0m\u001b[0mrow\u001b[0m\u001b[1;33m[\u001b[0m\u001b[1;36m0\u001b[0m\u001b[1;33m]\u001b[0m\u001b[1;33m,\u001b[0m \u001b[0mrow\u001b[0m\u001b[1;33m[\u001b[0m\u001b[1;36m1\u001b[0m\u001b[1;33m]\u001b[0m\u001b[1;33m,\u001b[0m \u001b[0mrow\u001b[0m\u001b[1;33m[\u001b[0m\u001b[1;36m2\u001b[0m\u001b[1;33m]\u001b[0m\u001b[1;33m,\u001b[0m \u001b[0mrow\u001b[0m\u001b[1;33m[\u001b[0m\u001b[1;36m3\u001b[0m\u001b[1;33m]\u001b[0m\u001b[1;33m,\u001b[0m \u001b[0mrow\u001b[0m\u001b[1;33m[\u001b[0m\u001b[1;36m4\u001b[0m\u001b[1;33m]\u001b[0m\u001b[1;33m,\u001b[0m \u001b[0mrow\u001b[0m\u001b[1;33m[\u001b[0m\u001b[1;36m5\u001b[0m\u001b[1;33m]\u001b[0m\u001b[1;33m,\u001b[0m \u001b[0mrow\u001b[0m\u001b[1;33m[\u001b[0m\u001b[1;36m6\u001b[0m\u001b[1;33m]\u001b[0m\u001b[1;33m,\u001b[0m \u001b[0mrow\u001b[0m\u001b[1;33m[\u001b[0m\u001b[1;36m7\u001b[0m\u001b[1;33m]\u001b[0m\u001b[1;33m)\u001b[0m\u001b[1;33m\u001b[0m\u001b[1;33m\u001b[0m\u001b[0m\n\u001b[0m\u001b[0;32m     52\u001b[0m             \u001b[0mcourses\u001b[0m\u001b[1;33m.\u001b[0m\u001b[0mappend\u001b[0m\u001b[1;33m(\u001b[0m\u001b[0mnewCourse\u001b[0m\u001b[1;33m)\u001b[0m\u001b[1;33m\u001b[0m\u001b[1;33m\u001b[0m\u001b[0m\n\u001b[0;32m     53\u001b[0m \u001b[0mpopulateCourseArray\u001b[0m\u001b[1;33m(\u001b[0m\u001b[0mpath\u001b[0m\u001b[1;33m)\u001b[0m\u001b[1;33m\u001b[0m\u001b[1;33m\u001b[0m\u001b[0m\n",
      "\u001b[1;31mIndexError\u001b[0m: list index out of range"
     ]
    }
   ],
   "source": [
    "import pandas\n",
    "import csv\n",
    "from pathlib import Path\n",
    "\n",
    "path = Path(\"Software Systems Track.csv\")\n",
    "courses = []\n",
    "\n",
    "class course:\n",
    "    def __init__(self,name, description, hours, fall, spring, summer, prereq, taken):\n",
    "        #string\n",
    "        self.name = name\n",
    "        #string\n",
    "        self.description = description\n",
    "        #int\n",
    "        self.hours = hours\n",
    "        #bool\n",
    "        self.fall = fall\n",
    "        #bool\n",
    "        self.spring = spring\n",
    "        #bool\n",
    "        self.summer = summer\n",
    "        #dict\n",
    "        self.prereq = prereq\n",
    "        #bool\n",
    "        self.taken = taken\n",
    "#Created these functions to grab the information.\n",
    "    def __str__(self): #----->This is a string. This will output all the info for a class. ex use / print(course[0])  or print(course[0].Name() for specific info\n",
    "        return f'{self.name}, {self.description}, {self.hours}, {self.fall}, {self.spring}, {self.summer}, {self.prereq}, {self.taken}'\n",
    "    def Name(self):\n",
    "        return self.name\n",
    "    def Description(self):\n",
    "        return self.description\n",
    "    def Hours(self):\n",
    "        return self.hours\n",
    "    def Fall(self):\n",
    "        return self.fall\n",
    "    def Spring(self):\n",
    "        return self.spring\n",
    "    def Summer(self):\n",
    "        return self.summer\n",
    "    def Prereq(self):\n",
    "        return self.prereq\n",
    "    def Taken(self):\n",
    "        return self.taken\n",
    "    \n",
    "def populateCourseArray(path):\n",
    "    with open(path, 'r', encoding='utf-8') as csvfile:\n",
    "        datareader = csv.reader(csvfile)\n",
    "        for row in datareader:\n",
    "            newCourse = course(row[0], row[1], row[2], row[3], row[4], row[5], row[6], row[7])\n",
    "            courses.append(newCourse)\n",
    "populateCourseArray(path)\n",
    "\n",
    "print(len(courses))\n"
   ]
  },
  {
   "cell_type": "code",
   "execution_count": null,
   "metadata": {},
   "outputs": [],
   "source": [
    "import networkx as nx\n",
    "from matplotlib import pyplot as plt\n",
    "\n",
    "semesterOne = []\n",
    "semesterTwo = []\n",
    "semesterThree = []\n",
    "semesterFour = []\n",
    "semesterFive = []\n",
    "semesterSix = []\n",
    "semesterSeven = []\n",
    "semesterEight = []\n",
    "classesArrayStage = []\n",
    "\n",
    "graph = nx.DiGraph()\n",
    "for classes in courses:\n",
    "    if (classes.taken != True and classes.prereq == \"\"):\n",
    "        for classes2 in courses:\n",
    "            if(classes.prereq == classes2.name):\n",
    "                graph.add_edges_from([(classes.name, classes2.name)])\n",
    "                classes.taken = True\n",
    "                classesArrayStage.append(classes)\n",
    "    elif (classes.taken != True and classes.prereq != \"\"):\n",
    "        for classes2 in courses:\n",
    "            if(classes.prereq == classes2.name):\n",
    "                graph.add_edges_from([(classes.name, classes2.name)])\n",
    "                classes.taken = True\n",
    "                classesArrayStage.append(classes)\n",
    "                \n",
    "for clasess in classesArrayStage:\n",
    "    print(clasess)\n",
    "\n",
    "print(len(classesArrayStage))\n",
    "list(nx.topological_sort(graph))\n",
    "\n"
   ]
  },
  {
   "cell_type": "code",
   "execution_count": null,
   "metadata": {},
   "outputs": [],
   "source": []
  },
  {
   "cell_type": "code",
   "execution_count": null,
   "metadata": {},
   "outputs": [],
   "source": []
  }
 ],
 "metadata": {
  "kernelspec": {
   "display_name": "Python 3",
   "language": "python",
   "name": "python3"
  },
  "language_info": {
   "codemirror_mode": {
    "name": "ipython",
    "version": 3
   },
   "file_extension": ".py",
   "mimetype": "text/x-python",
   "name": "python",
   "nbconvert_exporter": "python",
   "pygments_lexer": "ipython3",
   "version": "3.7.3"
  }
 },
 "nbformat": 4,
 "nbformat_minor": 2
}
